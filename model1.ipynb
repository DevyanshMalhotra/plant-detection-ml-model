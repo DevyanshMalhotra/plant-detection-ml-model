{
 "cells": [
  {
   "cell_type": "code",
   "execution_count": 2,
   "metadata": {},
   "outputs": [
    {
     "name": "stdout",
     "output_type": "stream",
     "text": [
      "Found 3074 images belonging to 9 classes.\n",
      "Found 763 images belonging to 9 classes.\n"
     ]
    }
   ],
   "source": [
    "import tensorflow as tf\n",
    "from tensorflow.keras.preprocessing.image import ImageDataGenerator\n",
    "from tensorflow.keras.applications.resnet50 import preprocess_input\n",
    "\n",
    "train_datagen = ImageDataGenerator(\n",
    "    preprocessing_function=preprocess_input,\n",
    "    validation_split=0.2,\n",
    "    horizontal_flip=True,\n",
    "    vertical_flip=True,\n",
    "    rotation_range=20,\n",
    "    width_shift_range=0.2,\n",
    "    height_shift_range=0.2,\n",
    "    zoom_range=0.2\n",
    ")\n",
    "\n",
    "train_generator = train_datagen.flow_from_directory(\n",
    "    \"C:\\\\Users\\\\USER\\\\OneDrive\\\\Desktop\\\\dataset\",\n",
    "    target_size=(224, 224),\n",
    "    batch_size=32,\n",
    "    class_mode='categorical',\n",
    "    subset='training'\n",
    ")\n",
    "\n",
    "validation_generator = train_datagen.flow_from_directory(\n",
    "    \"C:\\\\Users\\\\USER\\\\OneDrive\\\\Desktop\\\\dataset\",\n",
    "    target_size=(224, 224),\n",
    "    batch_size=32,\n",
    "    class_mode='categorical',\n",
    "    subset='validation'\n",
    ")\n"
   ]
  },
  {
   "cell_type": "code",
   "execution_count": 3,
   "metadata": {},
   "outputs": [],
   "source": [
    "from tensorflow.keras.applications import ResNet50\n",
    "from tensorflow.keras.models import Model\n",
    "from tensorflow.keras.layers import Dense, GlobalAveragePooling2D\n",
    "\n",
    "base_model = ResNet50(weights='imagenet', include_top=False)\n",
    "\n",
    "x = base_model.output\n",
    "x = GlobalAveragePooling2D()(x)\n",
    "x = Dense(1024, activation='relu')(x)\n",
    "predictions = Dense(len(train_generator.class_indices), activation='softmax')(x)\n",
    "\n",
    "model = Model(inputs=base_model.input, outputs=predictions)\n",
    "\n",
    "# Freeze the layers of ResNet-50 except the top layers\n",
    "for layer in base_model.layers:\n",
    "    layer.trainable = False\n",
    "\n",
    "model.compile(optimizer='adam', loss='categorical_crossentropy', metrics=['accuracy'])\n"
   ]
  },
  {
   "cell_type": "code",
   "execution_count": 4,
   "metadata": {},
   "outputs": [
    {
     "name": "stdout",
     "output_type": "stream",
     "text": [
      "Epoch 1/10\n",
      "96/96 [==============================] - 181s 2s/step - loss: 0.6518 - accuracy: 0.8225 - val_loss: 0.4259 - val_accuracy: 0.8655\n",
      "Epoch 2/10\n",
      "96/96 [==============================] - 162s 2s/step - loss: 0.1637 - accuracy: 0.9464 - val_loss: 0.2930 - val_accuracy: 0.8927\n",
      "Epoch 3/10\n",
      "96/96 [==============================] - 167s 2s/step - loss: 0.1459 - accuracy: 0.9513 - val_loss: 0.2862 - val_accuracy: 0.9022\n",
      "Epoch 4/10\n",
      "96/96 [==============================] - 169s 2s/step - loss: 0.1307 - accuracy: 0.9550 - val_loss: 0.2305 - val_accuracy: 0.9266\n",
      "Epoch 5/10\n",
      "96/96 [==============================] - 161s 2s/step - loss: 0.0893 - accuracy: 0.9688 - val_loss: 0.3076 - val_accuracy: 0.9062\n",
      "Epoch 6/10\n",
      "96/96 [==============================] - 155s 2s/step - loss: 0.0850 - accuracy: 0.9724 - val_loss: 0.2716 - val_accuracy: 0.9212\n",
      "Epoch 7/10\n",
      "96/96 [==============================] - 150s 2s/step - loss: 0.0789 - accuracy: 0.9740 - val_loss: 0.2036 - val_accuracy: 0.9361\n",
      "Epoch 8/10\n",
      "96/96 [==============================] - 150s 2s/step - loss: 0.0636 - accuracy: 0.9806 - val_loss: 0.2785 - val_accuracy: 0.9239\n",
      "Epoch 9/10\n",
      "96/96 [==============================] - 153s 2s/step - loss: 0.0584 - accuracy: 0.9803 - val_loss: 0.5321 - val_accuracy: 0.8614\n",
      "Epoch 10/10\n",
      "96/96 [==============================] - 156s 2s/step - loss: 0.1017 - accuracy: 0.9684 - val_loss: 0.2670 - val_accuracy: 0.9293\n"
     ]
    }
   ],
   "source": [
    "history = model.fit(\n",
    "    train_generator,\n",
    "    steps_per_epoch=train_generator.samples // train_generator.batch_size,\n",
    "    validation_data=validation_generator,\n",
    "    validation_steps=validation_generator.samples // validation_generator.batch_size,\n",
    "    epochs=10\n",
    ")\n"
   ]
  },
  {
   "cell_type": "code",
   "execution_count": 9,
   "metadata": {},
   "outputs": [
    {
     "name": "stdout",
     "output_type": "stream",
     "text": [
      "Found 763 images belonging to 9 classes.\n",
      "24/24 [==============================] - 33s 1s/step - loss: 0.2767 - accuracy: 0.9069\n",
      "Test Loss: 0.2767234444618225, Test Accuracy: 0.9069462418556213\n"
     ]
    }
   ],
   "source": [
    "test_generator = train_datagen.flow_from_directory(\n",
    "    \"C:\\\\Users\\\\USER\\\\OneDrive\\\\Desktop\\\\dataset\",\n",
    "    target_size=(224, 224),\n",
    "    batch_size=32,\n",
    "    class_mode='categorical',\n",
    "    subset='validation'  \n",
    ")\n",
    "\n",
    "evaluation = model.evaluate(test_generator)\n",
    "print(f\"Test Loss: {evaluation[0]}, Test Accuracy: {evaluation[1]}\")\n"
   ]
  },
  {
   "cell_type": "code",
   "execution_count": 10,
   "metadata": {},
   "outputs": [
    {
     "name": "stderr",
     "output_type": "stream",
     "text": [
      "c:\\Users\\USER\\OneDrive\\Desktop\\dataset\\env\\lib\\site-packages\\keras\\src\\engine\\training.py:3000: UserWarning: You are saving your model as an HDF5 file via `model.save()`. This file format is considered legacy. We recommend using instead the native Keras format, e.g. `model.save('my_model.keras')`.\n",
      "  saving_api.save_model(\n"
     ]
    }
   ],
   "source": [
    "model.save('vegetable_leaf_classifier.h5')\n"
   ]
  }
 ],
 "metadata": {
  "kernelspec": {
   "display_name": "env",
   "language": "python",
   "name": "python3"
  },
  "language_info": {
   "codemirror_mode": {
    "name": "ipython",
    "version": 3
   },
   "file_extension": ".py",
   "mimetype": "text/x-python",
   "name": "python",
   "nbconvert_exporter": "python",
   "pygments_lexer": "ipython3",
   "version": "3.8.10"
  }
 },
 "nbformat": 4,
 "nbformat_minor": 2
}
